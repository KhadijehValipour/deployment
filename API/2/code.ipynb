{
  "cells": [
    {
      "cell_type": "code",
      "execution_count": 1,
      "metadata": {
        "id": "d8DzAVGUrQbC"
      },
      "outputs": [],
      "source": [
        "import os\n",
        "import requests\n",
        "import dotenv"
      ]
    },
    {
      "cell_type": "code",
      "execution_count": 2,
      "metadata": {},
      "outputs": [],
      "source": [
        "dotenv = dotenv.load_dotenv()"
      ]
    },
    {
      "cell_type": "code",
      "execution_count": 5,
      "metadata": {
        "colab": {
          "base_uri": "https://localhost:8080/"
        },
        "id": "r6C1Hcivrfp7",
        "outputId": "c096a958-717f-438b-a2bb-cbc592c53eaa"
      },
      "outputs": [
        {
          "data": {
            "text/plain": [
              "200"
            ]
          },
          "execution_count": 5,
          "metadata": {},
          "output_type": "execute_result"
        }
      ],
      "source": [
        "response = requests.get(\"https://the-one-api.dev/v2/book\")\n",
        "response.status_code"
      ]
    },
    {
      "cell_type": "code",
      "execution_count": 6,
      "metadata": {
        "colab": {
          "base_uri": "https://localhost:8080/"
        },
        "id": "J9aoWRWPYorl",
        "outputId": "c7449d1e-12f6-4632-8908-c212682cf20a"
      },
      "outputs": [
        {
          "data": {
            "text/plain": [
              "{'docs': [{'_id': '5cf5805fb53e011a64671582',\n",
              "   'name': 'The Fellowship Of The Ring'},\n",
              "  {'_id': '5cf58077b53e011a64671583', 'name': 'The Two Towers'},\n",
              "  {'_id': '5cf58080b53e011a64671584', 'name': 'The Return Of The King'}],\n",
              " 'total': 3,\n",
              " 'limit': 1000,\n",
              " 'offset': 0,\n",
              " 'page': 1,\n",
              " 'pages': 1}"
            ]
          },
          "execution_count": 6,
          "metadata": {},
          "output_type": "execute_result"
        }
      ],
      "source": [
        "response.json()"
      ]
    },
    {
      "cell_type": "code",
      "execution_count": 7,
      "metadata": {
        "colab": {
          "base_uri": "https://localhost:8080/"
        },
        "id": "Rk26iffIY5a5",
        "outputId": "56bdf90a-714d-4193-d5a5-78e3b0fafc6c"
      },
      "outputs": [
        {
          "data": {
            "text/plain": [
              "200"
            ]
          },
          "execution_count": 7,
          "metadata": {},
          "output_type": "execute_result"
        }
      ],
      "source": [
        "One_API_KEY = os.getenv(\"One_API_KEY\")\n",
        "\n",
        "headers = {\n",
        "    \"Authorization\":One_API_KEY\n",
        "}\n",
        "\n",
        "\n",
        "response = requests.get(\"https://the-one-api.dev/v2/movie\", headers=headers)\n",
        "response.status_code"
      ]
    },
    {
      "cell_type": "code",
      "execution_count": null,
      "metadata": {
        "id": "4wXhoHEdcikl"
      },
      "outputs": [],
      "source": [
        "response.json()"
      ]
    },
    {
      "cell_type": "code",
      "execution_count": 9,
      "metadata": {
        "colab": {
          "base_uri": "https://localhost:8080/"
        },
        "id": "BCS_ZGu7eqKc",
        "outputId": "4b2ecbfa-753c-4338-a8be-9b363d89d8ad"
      },
      "outputs": [
        {
          "data": {
            "text/plain": [
              "200"
            ]
          },
          "execution_count": 9,
          "metadata": {},
          "output_type": "execute_result"
        }
      ],
      "source": [
        "url = \"https://api.iconfinder.com/v4/icons/search?query=arrow&count=10\"\n",
        "\n",
        "IconFinder_API_KEY = os.getenv(\"IconFinder_API_KEY\")\n",
        "\n",
        "headers = {\n",
        "    \"accept\" : \"application/json\",\n",
        "    \"Authorization\" : IconFinder_API_KEY\n",
        "}\n",
        "\n",
        "response = requests.get(url, headers=headers)\n",
        "\n",
        "response.status_code"
      ]
    },
    {
      "cell_type": "code",
      "execution_count": null,
      "metadata": {
        "id": "Zg0x3stXmSC5"
      },
      "outputs": [],
      "source": [
        "response.json()"
      ]
    },
    {
      "cell_type": "code",
      "execution_count": 11,
      "metadata": {
        "colab": {
          "base_uri": "https://localhost:8080/"
        },
        "id": "3VR_-20zuRHg",
        "outputId": "42a452e2-933d-484a-ad6e-eb3e1069e56b"
      },
      "outputs": [
        {
          "data": {
            "text/plain": [
              "200"
            ]
          },
          "execution_count": 11,
          "metadata": {},
          "output_type": "execute_result"
        }
      ],
      "source": [
        "url = \"https://api.iconfinder.com/v4/icons/search?query=arrow&count=10\"\n",
        "\n",
        "headers = {\n",
        "    \"accept\" : \"application/json\",\n",
        "    \"Authorization\" : IconFinder_API_KEY\n",
        "}\n",
        "\n",
        "payload = {\n",
        "    \"query\" : \"arrow\",\n",
        "    \"count\" : \"10\"\n",
        "}\n",
        "\n",
        "response = requests.get(url, headers=headers, params=payload)\n",
        "\n",
        "response.status_code"
      ]
    },
    {
      "cell_type": "code",
      "execution_count": 12,
      "metadata": {
        "colab": {
          "base_uri": "https://localhost:8080/",
          "height": 200
        },
        "id": "VrJreOiNvBwH",
        "outputId": "f5e2ea1c-23e7-4806-dcb8-b671ed78711c"
      },
      "outputs": [
        {
          "data": {
            "application/vnd.google.colaboratory.intrinsic+json": {
              "type": "string"
            },
            "text/plain": [
              "'{\"total_count\":189427,\"icons\":[{\"icon_id\":4470662,\"tags\":[\"app\",\"back\",\"mobile\",\"ui\",\"ux\",\"web\",\"arrow\"],\"published_at\":\"2019-04-05T08:53:39.350522\",\"is_premium\":false,\"type\":\"vector\",\"containers\":[],\"raster_sizes\":[{\"formats\":[{\"format\":\"png\",\"preview_url\":\"https://cdn0.iconfinder.com/data/icons/uiux-001-line/32/UI_UX_UIUX_Back-16.png\",\"download_url\":\"https://api.iconfinder.com/v4/icons/4470662/formats/png/16/download\"}],\"size\":16,\"size_width\":16,\"size_height\":16},{\"formats\":[{\"format\":\"png\",\"preview_url\":\"https://cdn0.iconfinder.com/data/icons/uiux-001-line/32/UI_UX_UIUX_Back-20.png\",\"download_url\":\"https://api.iconfinder.com/v4/icons/4470662/formats/png/20/download\"}],\"size\":20,\"size_width\":20,\"size_height\":20},{\"formats\":[{\"format\":\"png\",\"preview_url\":\"https://cdn0.iconfinder.com/data/icons/uiux-001-line/32/UI_UX_UIUX_Back-24.png\",\"download_url\":\"https://api.iconfinder.com/v4/icons/4470662/formats/png/24/download\"}],\"size\":24,\"size_width\":24,\"size_height\":24},{\"formats\":[{\"format\":\"png\",\"preview_url\":\"https://cdn0.iconfinder.com/data/icons/uiux-001-line/32/UI_UX_UIUX_Back-32.png\",\"download_url\":\"https://api.iconfinder.com/v4/icons/4470662/formats/png/32/download\"}],\"size\":32,\"size_width\":32,\"size_height\":32},{\"formats\":[{\"format\":\"png\",\"preview_url\":\"https://cdn0.iconfinder.com/data/icons/uiux-001-line/32/UI_UX_UIUX_Back-48.png\",\"download_url\":\"https://api.iconfinder.com/v4/icons/4470662/formats/png/48/download\"}],\"size\":48,\"size_width\":48,\"size_height\":48},{\"formats\":[{\"format\":\"png\",\"preview_url\":\"https://cdn0.iconfinder.com/data/icons/uiux-001-line/32/UI_UX_UIUX_Back-64.png\",\"download_url\":\"https://api.iconfinder.com/v4/icons/4470662/formats/png/64/download\"}],\"size\":64,\"size_width\":64,\"size_height\":64},{\"formats\":[{\"format\":\"png\",\"preview_url\":\"https://cdn0.iconfinder.com/data/icons/uiux-001-line/32/UI_UX_UIUX_Back-128.png\",\"download_url\":\"https://api.iconfinder.com/v4/icons/4470662/formats/png/128/download\"}],\"size\":128,\"size_width\":128,\"size_height\":128},{\"formats\":[{\"format\":\"png\",\"preview_url\":\"https://cdn0.iconfinder.com/data/icons/uiux-001-line/32/UI_UX_UIUX_Back-256.png\",\"download_url\":\"https://api.iconfinder.com/v4/icons/4470662/formats/png/256/download\"}],\"size\":256,\"size_width\":256,\"size_height\":256},{\"formats\":[{\"format\":\"png\",\"preview_url\":\"https://cdn0.iconfinder.com/data/icons/uiux-001-line/32/UI_UX_UIUX_Back-512.png\",\"download_url\":\"https://api.iconfinder.com/v4/icons/4470662/formats/png/512/download\"}],\"size\":512,\"size_width\":512,\"size_height\":512},{\"formats\":[{\"format\":\"png\",\"preview_url\":\"https://cdn0.iconfinder.com/data/icons/uiux-001-line/32/UI_UX_UIUX_Back-1024.png\",\"download_url\":\"https://api.iconfinder.com/v4/icons/4470662/formats/png/1024/download\"}],\"size\":1024,\"size_width\":1024,\"size_height\":1024}],\"vector_sizes\":[{\"formats\":[{\"format\":\"svg\",\"download_url\":\"https://api.iconfinder.com/v4/icons/4470662/formats/svg/4942189/download\"}],\"target_sizes\":[[16,20,24,32,48,64,128,256,512,1024]],\"size\":32,\"size_width\":32,\"size_height\":32}],\"styles\":[{\"identifier\":\"outline\",\"name\":\"Outline\"}],\"categories\":[{\"identifier\":\"user-interface-optimal\",\"name\":\"User interface optimal\"}],\"is_icon_glyph\":false},{\"icon_id\":4476914,\"tags\":[\"forward\",\"interface\",\"mobile\",\"next\",\"ui\",\"web icons\",\"arrow\"],\"published_at\":\"2019-04-07T08:43:55.043323\",\"is_premium\":false,\"type\":\"vector\",\"containers\":[],\"raster_sizes\":[{\"formats\":[{\"format\":\"png\",\"preview_url\":\"https://cdn1.iconfinder.com/data/icons/uiux-001-solid/32/Next-16.png\",\"download_url\":\"https://api.iconfinder.com/v4/icons/4476914/formats/png/16/download\"}],\"size\":16,\"size_width\":16,\"size_height\":16},{\"formats\":[{\"format\":\"png\",\"preview_url\":\"https://cdn1.iconfinder.com/data/icons/uiux-001-solid/32/Next-20.png\",\"download_url\":\"https://api.iconfinder.com/v4/icons/4476914/formats/png/20/download\"}],\"size\":20,\"size_width\":20,\"size_height\":20},{\"formats\":[{\"format\":\"png\",\"preview_url\":\"https://cdn1.iconfinder.com/data/icons/uiux-001-solid/32/Next-24.png\",\"download_url\":\"https://api.iconfinder.com/v4/icons/4476914/formats/png/24/download\"}],\"size\":24,\"size_width\":24,\"size_height\":24},{\"formats\":[{\"format\":\"png\",\"preview_url\":\"https://cdn1.iconfinder.com/data/icons/uiux-001-solid/32/Next-32.png\",\"download_url\":\"https://api.iconfinder.com/v4/icons/4476914/formats/png/32/download\"}],\"size\":32,\"size_width\":32,\"size_height\":32},{\"formats\":[{\"format\":\"png\",\"preview_url\":\"https://cdn1.iconfinder.com/data/icons/uiux-001-solid/32/Next-48.png\",\"download_url\":\"https://api.iconfinder.com/v4/icons/4476914/formats/png/48/download\"}],\"size\":48,\"size_width\":48,\"size_height\":48},{\"formats\":[{\"format\":\"png\",\"preview_url\":\"https://cdn1.iconfinder.com/data/icons/uiux-001-solid/32/Next-64.png\",\"download_url\":\"https://api.iconfinder.com/v4/icons/4476914/formats/png/64/download\"}],\"size\":64,\"size_width\":64,\"size_height\":64},{\"formats\":[{\"format\":\"png\",\"preview_url\":\"https://cdn1.iconfinder.com/data/icons/uiux-001-solid/32/Next-128.png\",\"download_url\":\"https://api.iconfinder.com/v4/icons/4476914/formats/png/128/download\"}],\"size\":128,\"size_width\":128,\"size_height\":128},{\"formats\":[{\"format\":\"png\",\"preview_url\":\"https://cdn1.iconfinder.com/data/icons/uiux-001-solid/32/Next-256.png\",\"download_url\":\"https://api.iconfinder.com/v4/icons/4476914/formats/png/256/download\"}],\"size\":256,\"size_width\":256,\"size_height\":256},{\"formats\":[{\"format\":\"png\",\"preview_url\":\"https://cdn1.iconfinder.com/data/icons/uiux-001-solid/32/Next-512.png\",\"download_url\":\"https://api.iconfinder.com/v4/icons/4476914/formats/png/512/download\"}],\"size\":512,\"size_width\":512,\"size_height\":512},{\"formats\":[{\"format\":\"png\",\"preview_url\":\"https://cdn1.iconfinder.com/data/icons/uiux-001-solid/32/Next-1024.png\",\"download_url\":\"https://api.iconfinder.com/v4/icons/4476914/formats/png/1024/download\"}],\"size\":1024,\"size_width\":1024,\"size_height\":1024}],\"vector_sizes\":[{\"formats\":[{\"format\":\"svg\",\"download_url\":\"https://api.iconfinder.com/v4/icons/4476914/formats/svg/4948442/download\"}],\"target_sizes\":[[16,20,24,32,48,64,128,256,512,1024]],\"size\":32,\"size_width\":32,\"size_height\":32}],\"styles\":[{\"identifier\":\"solid\",\"name\":\"Solid\"}],\"categories\":[{\"identifier\":\"user-interface-optimal\",\"name\":\"User interface optimal\"}],\"is_icon_glyph\":false},{\"icon_id\":211607,\"tags\":[\"right\",\"arrow\"],\"published_at\":\"2013-11-05T21:49:46.825431\",\"is_premium\":false,\"type\":\"vector\",\"containers\":[{\"format\":\"ico\",\"download_url\":\"https://api.iconfinder.com/v4/icons/211607/containers/ico/download\"},{\"format\":\"icns\",\"download_url\":\"https://api.iconfinder.com/v4/icons/211607/containers/icns/download\"}],\"raster_sizes\":[{\"formats\":[{\"format\":\"png\",\"preview_url\":\"https://cdn4.iconfinder.com/data/icons/ionicons/512/icon-ios7-arrow-right-16.png\",\"download_url\":\"https://api.iconfinder.com/v4/icons/211607/formats/png/16/download\"}],\"size\":16,\"size_width\":16,\"size_height\":16},{\"formats\":[{\"format\":\"png\",\"preview_url\":\"https://cdn4.iconfinder.com/data/icons/ionicons/512/icon-ios7-arrow-right-20.png\",\"download_url\":\"https://api.iconfinder.com/v4/icons/211607/formats/png/20/download\"}],\"size\":20,\"size_width\":20,\"size_height\":20},{\"formats\":[{\"format\":\"png\",\"preview_url\":\"https://cdn4.iconfinder.com/data/icons/ionicons/512/icon-ios7-arrow-right-24.png\",\"download_url\":\"https://api.iconfinder.com/v4/icons/211607/formats/png/24/download\"}],\"size\":24,\"size_width\":24,\"size_height\":24},{\"formats\":[{\"format\":\"png\",\"preview_url\":\"https://cdn4.iconfinder.com/data/icons/ionicons/512/icon-ios7-arrow-right-32.png\",\"download_url\":\"https://api.iconfinder.com/v4/icons/211607/formats/png/32/download\"}],\"size\":32,\"size_width\":32,\"size_height\":32},{\"formats\":[{\"format\":\"png\",\"preview_url\":\"https://cdn4.iconfinder.com/data/icons/ionicons/512/icon-ios7-arrow-right-48.png\",\"download_url\":\"https://api.iconfinder.com/v4/icons/211607/formats/png/48/download\"}],\"size\":48,\"size_width\":48,\"size_height\":48},{\"formats\":[{\"format\":\"png\",\"preview_url\":\"https://cdn4.iconfinder.com/data/icons/ionicons/512/icon-ios7-arrow-right-64.png\",\"download_url\":\"https://api.iconfinder.com/v4/icons/211607/formats/png/64/download\"}],\"size\":64,\"size_width\":64,\"size_height\":64},{\"formats\":[{\"format\":\"png\",\"preview_url\":\"https://cdn4.iconfinder.com/data/icons/ionicons/512/icon-ios7-arrow-right-128.png\",\"download_url\":\"https://api.iconfinder.com/v4/icons/211607/formats/png/128/download\"}],\"size\":128,\"size_width\":128,\"size_height\":128},{\"formats\":[{\"format\":\"png\",\"preview_url\":\"https://cdn4.iconfinder.com/data/icons/ionicons/512/icon-ios7-arrow-right-256.png\",\"download_url\":\"https://api.iconfinder.com/v4/icons/211607/formats/png/256/download\"}],\"size\":256,\"size_width\":256,\"size_height\":256},{\"formats\":[{\"format\":\"png\",\"preview_url\":\"https://cdn4.iconfinder.com/data/icons/ionicons/512/icon-ios7-arrow-right-512.png\",\"download_url\":\"https://api.iconfinder.com/v4/icons/211607/formats/png/512/download\"}],\"size\":512,\"size_width\":512,\"size_height\":512}],\"vector_sizes\":[{\"formats\":[{\"format\":\"svg\",\"download_url\":\"https://api.iconfinder.com/v4/icons/211607/formats/svg/568095/download\"},{\"format\":\"ai\",\"download_url\":\"https://api.iconfinder.com/v4/icons/211607/formats/ai/568095/download\"}],\"target_sizes\":[[16,20,24,32,48,64,128,256,512]],\"size\":512,\"size_width\":512,\"size_height\":512}],\"styles\":[{\"identifier\":\"solid\",\"name\":\"Solid\"}],\"categories\":[{\"identifier\":\"computer-hardware\",\"name\":\"Computer & hardware\"}],\"is_icon_glyph\":false},{\"icon_id\":4829869,\"tags\":[\"arrow\",\"next\",\"right\"],\"published_at\":\"2019-07-04T06:06:30.437934\",\"is_premium\":false,\"type\":\"vector\",\"containers\":[],\"raster_sizes\":[{\"formats\":[{\"format\":\"png\",\"preview_url\":\"https://cdn3.iconfinder.com/data/icons/arrow-outline-8/32/right_2-16.png\",\"download_url\":\"https://api.iconfinder.com/v4/icons/4829869/formats/png/16/download\"}],\"size\":16,\"size_width\":16,\"size_height\":16},{\"formats\":[{\"format\":\"png\",\"preview_url\":\"https://cdn3.iconfinder.com/data/icons/arrow-outline-8/32/right_2-20.png\",\"download_url\":\"https://api.iconfinder.com/v4/icons/4829869/formats/png/20/download\"}],\"size\":20,\"size_width\":20,\"size_height\":20},{\"formats\":[{\"format\":\"png\",\"preview_url\":\"https://cdn3.iconfinder.com/data/icons/arrow-outline-8/32/right_2-24.png\",\"download_url\":\"https://api.iconfinder.com/v4/icons/4829869/formats/png/24/download\"}],\"size\":24,\"size_width\":24,\"size_height\":24},{\"formats\":[{\"format\":\"png\",\"preview_url\":\"https://cdn3.iconfinder.com/data/icons/arrow-outline-8/32/right_2-32.png\",\"download_url\":\"https://api.iconfinder.com/v4/icons/4829869/formats/png/32/download\"}],\"size\":32,\"size_width\":32,\"size_height\":32},{\"formats\":[{\"format\":\"png\",\"preview_url\":\"https://cdn3.iconfinder.com/data/icons/arrow-outline-8/32/right_2-48.png\",\"download_url\":\"https://api.iconfinder.com/v4/icons/4829869/formats/png/48/download\"}],\"size\":48,\"size_width\":48,\"size_height\":48},{\"formats\":[{\"format\":\"png\",\"preview_url\":\"https://cdn3.iconfinder.com/data/icons/arrow-outline-8/32/right_2-64.png\",\"download_url\":\"https://api.iconfinder.com/v4/icons/4829869/formats/png/64/download\"}],\"size\":64,\"size_width\":64,\"size_height\":64},{\"formats\":[{\"format\":\"png\",\"preview_url\":\"https://cdn3.iconfinder.com/data/icons/arrow-outline-8/32/right_2-128.png\",\"download_url\":\"https://api.iconfinder.com/v4/icons/4829869/formats/png/128/download\"}],\"size\":128,\"size_width\":128,\"size_height\":128},{\"formats\":[{\"format\":\"png\",\"preview_url\":\"https://cdn3.iconfinder.com/data/icons/arrow-outline-8/32/right_2-256.png\",\"download_url\":\"https://api.iconfinder.com/v4/icons/4829869/formats/png/256/download\"}],\"size\":256,\"size_width\":256,\"size_height\":256},{\"formats\":[{\"format\":\"png\",\"preview_url\":\"https://cdn3.iconfinder.com/data/icons/arrow-outline-8/32/right_2-512.png\",\"download_url\":\"https://api.iconfinder.com/v4/icons/4829869/formats/png/512/download\"}],\"size\":512,\"size_width\":512,\"size_height\":512},{\"formats\":[{\"format\":\"png\",\"preview_url\":\"https://cdn3.iconfinder.com/data/icons/arrow-outline-8/32/right_2-1024.png\",\"download_url\":\"https://api.iconfinder.com/v4/icons/4829869/formats/png/1024/download\"}],\"size\":1024,\"size_width\":1024,\"size_height\":1024}],\"vector_sizes\":[{\"formats\":[{\"format\":\"svg\",\"download_url\":\"https://api.iconfinder.com/v4/icons/4829869/formats/svg/5302618/download\"}],\"target_sizes\":[[16,20,24,32,48,64,128,256,512,1024]],\"size\":32,\"size_width\":32,\"size_height\":32}],\"styles\":[{\"identifier\":\"outline\",\"name\":\"Outline\"}],\"categories\":[{\"identifier\":\"arrow\",\"name\":\"Arrows\"}],\"is_icon_glyph\":false},{\"icon_id\":4600819,\"tags\":[\"arrow\",\"chevron\",\"down\",\"scroll\"],\"published_at\":\"2018-01-12T19:40:04.263746\",\"is_premium\":true,\"type\":\"vector\",\"containers\":[],\"raster_sizes\":[{\"formats\":[{\"format\":\"png\",\"preview_url\":\"https://cdn4.iconfinder.com/data/icons/navigation-40/24/chevron-down-16.png\",\"download_url\":\"https://api.iconfinder.com/v4/icons/4600819/formats/png/16/download\"}],\"size\":16,\"size_width\":16,\"size_height\":16},{\"formats\":[{\"format\":\"png\",\"preview_url\":\"https://cdn4.iconfinder.com/data/icons/navigation-40/24/chevron-down-20.png\",\"download_url\":\"https://api.iconfinder.com/v4/icons/4600819/formats/png/20/download\"}],\"size\":20,\"size_width\":20,\"size_height\":20},{\"formats\":[{\"format\":\"png\",\"preview_url\":\"https://cdn4.iconfinder.com/data/icons/navigation-40/24/chevron-down-24.png\",\"download_url\":\"https://api.iconfinder.com/v4/icons/4600819/formats/png/24/download\"}],\"size\":24,\"size_width\":24,\"size_height\":24},{\"formats\":[{\"format\":\"png\",\"preview_url\":\"https://cdn4.iconfinder.com/data/icons/navigation-40/24/chevron-down-32.png\",\"download_url\":\"https://api.iconfinder.com/v4/icons/4600819/formats/png/32/download\"}],\"size\":32,\"size_width\":32,\"size_height\":32},{\"formats\":[{\"format\":\"png\",\"preview_url\":\"https://cdn4.iconfinder.com/data/icons/navigation-40/24/chevron-down-48.png\",\"download_url\":\"https://api.iconfinder.com/v4/icons/4600819/formats/png/48/download\"}],\"size\":48,\"size_width\":48,\"size_height\":48},{\"formats\":[{\"format\":\"png\",\"preview_url\":\"https://cdn4.iconfinder.com/data/icons/navigation-40/24/chevron-down-64.png\",\"download_url\":\"https://api.iconfinder.com/v4/icons/4600819/formats/png/64/download\"}],\"size\":64,\"size_width\":64,\"size_height\":64},{\"formats\":[{\"format\":\"png\",\"preview_url\":\"https://cdn4.iconfinder.com/data/icons/navigation-40/24/chevron-down-128.png\",\"download_url\":\"https://api.iconfinder.com/v4/icons/4600819/formats/png/128/download\"}],\"size\":128,\"size_width\":128,\"size_height\":128},{\"formats\":[{\"format\":\"png\",\"preview_url\":\"https://cdn4.iconfinder.com/data/icons/navigation-40/24/chevron-down-256.png\",\"download_url\":\"https://api.iconfinder.com/v4/icons/4600819/formats/png/256/download\"}],\"size\":256,\"size_width\":256,\"size_height\":256},{\"formats\":[{\"format\":\"png\",\"preview_url\":\"https://cdn4.iconfinder.com/data/icons/navigation-40/24/chevron-down-512.png\",\"download_url\":\"https://api.iconfinder.com/v4/icons/4600819/formats/png/512/download\"}],\"size\":512,\"size_width\":512,\"size_height\":512},{\"formats\":[{\"format\":\"png\",\"preview_url\":\"https://cdn4.iconfinder.com/data/icons/navigation-40/24/chevron-down-1024.png\",\"download_url\":\"https://api.iconfinder.com/v4/icons/4600819/formats/png/1024/download\"}],\"size\":1024,\"size_width\":1024,\"size_height\":1024}],\"vector_sizes\":[{\"formats\":[{\"format\":\"svg\",\"download_url\":\"https://api.iconfinder.com/v4/icons/4600819/formats/svg/5072751/download\"}],\"target_sizes\":[[16,20,24,32,48,64,128,256,512,1024]],\"size\":24,\"size_width\":24,\"size_height\":24}],\"prices\":[{\"license\":{\"license_id\":71,\"name\":\"Basic license\",\"url\":\"https://www.iconfinder.com/licenses/basic\",\"scope\":\"basic\"},\"currency\":\"USD\",\"price\":2.0}],\"styles\":[{\"identifier\":\"outline\",\"name\":\"Outline\"}],\"categories\":[{\"identifier\":\"arrow\",\"name\":\"Arrows\"},{\"identifier\":\"user-interface-optimal\",\"name\":\"User interface optimal\"}],\"is_purchased\":false,\"is_icon_glyph\":false},{\"icon_id\":211687,\"tags\":[\"down\",\"arrow\"],\"published_at\":\"2013-11-05T21:49:46.825431\",\"is_premium\":false,\"type\":\"vector\",\"containers\":[{\"format\":\"ico\",\"download_url\":\"https://api.iconfinder.com/v4/icons/211687/containers/ico/download\"},{\"format\":\"icns\",\"download_url\":\"https://api.iconfinder.com/v4/icons/211687/containers/icns/download\"}],\"raster_sizes\":[{\"formats\":[{\"format\":\"png\",\"preview_url\":\"https://cdn4.iconfinder.com/data/icons/ionicons/512/icon-ios7-arrow-down-16.png\",\"download_url\":\"https://api.iconfinder.com/v4/icons/211687/formats/png/16/download\"}],\"size\":16,\"size_width\":16,\"size_height\":16},{\"formats\":[{\"format\":\"png\",\"preview_url\":\"https://cdn4.iconfinder.com/data/icons/ionicons/512/icon-ios7-arrow-down-20.png\",\"download_url\":\"https://api.iconfinder.com/v4/icons/211687/formats/png/20/download\"}],\"size\":20,\"size_width\":20,\"size_height\":20},{\"formats\":[{\"format\":\"png\",\"preview_url\":\"https://cdn4.iconfinder.com/data/icons/ionicons/512/icon-ios7-arrow-down-24.png\",\"download_url\":\"https://api.iconfinder.com/v4/icons/211687/formats/png/24/download\"}],\"size\":24,\"size_width\":24,\"size_height\":24},{\"formats\":[{\"format\":\"png\",\"preview_url\":\"https://cdn4.iconfinder.com/data/icons/ionicons/512/icon-ios7-arrow-down-32.png\",\"download_url\":\"https://api.iconfinder.com/v4/icons/211687/formats/png/32/download\"}],\"size\":32,\"size_width\":32,\"size_height\":32},{\"formats\":[{\"format\":\"png\",\"preview_url\":\"https://cdn4.iconfinder.com/data/icons/ionicons/512/icon-ios7-arrow-down-48.png\",\"download_url\":\"https://api.iconfinder.com/v4/icons/211687/formats/png/48/download\"}],\"size\":48,\"size_width\":48,\"size_height\":48},{\"formats\":[{\"format\":\"png\",\"preview_url\":\"https://cdn4.iconfinder.com/data/icons/ionicons/512/icon-ios7-arrow-down-64.png\",\"download_url\":\"https://api.iconfinder.com/v4/icons/211687/formats/png/64/download\"}],\"size\":64,\"size_width\":64,\"size_height\":64},{\"formats\":[{\"format\":\"png\",\"preview_url\":\"https://cdn4.iconfinder.com/data/icons/ionicons/512/icon-ios7-arrow-down-128.png\",\"download_url\":\"https://api.iconfinder.com/v4/icons/211687/formats/png/128/download\"}],\"size\":128,\"size_width\":128,\"size_height\":128},{\"formats\":[{\"format\":\"png\",\"preview_url\":\"https://cdn4.iconfinder.com/data/icons/ionicons/512/icon-ios7-arrow-down-256.png\",\"download_url\":\"https://api.iconfinder.com/v4/icons/211687/formats/png/256/download\"}],\"size\":256,\"size_width\":256,\"size_height\":256},{\"formats\":[{\"format\":\"png\",\"preview_url\":\"https://cdn4.iconfinder.com/data/icons/ionicons/512/icon-ios7-arrow-down-512.png\",\"download_url\":\"https://api.iconfinder.com/v4/icons/211687/formats/png/512/download\"}],\"size\":512,\"size_width\":512,\"size_height\":512}],\"vector_sizes\":[{\"formats\":[{\"format\":\"svg\",\"download_url\":\"https://api.iconfinder.com/v4/icons/211687/formats/svg/568175/download\"},{\"format\":\"ai\",\"download_url\":\"https://api.iconfinder.com/v4/icons/211687/formats/ai/568175/download\"}],\"target_sizes\":[[16,20,24,32,48,64,128,256,512]],\"size\":512,\"size_width\":512,\"size_height\":512}],\"styles\":[{\"identifier\":\"solid\",\"name\":\"Solid\"}],\"categories\":[{\"identifier\":\"computer-hardware\",\"name\":\"Computer & hardware\"}],\"is_icon_glyph\":false},{\"icon_id\":4600821,\"tags\":[\"arrow\",\"chevron\",\"next\",\"right\"],\"published_at\":\"2018-01-12T19:40:04.263746\",\"is_premium\":true,\"type\":\"vector\",\"containers\":[],\"raster_sizes\":[{\"formats\":[{\"format\":\"png\",\"preview_url\":\"https://cdn4.iconfinder.com/data/icons/navigation-40/24/chevron-right-16.png\",\"download_url\":\"https://api.iconfinder.com/v4/icons/4600821/formats/png/16/download\"}],\"size\":16,\"size_width\":16,\"size_height\":16},{\"formats\":[{\"format\":\"png\",\"preview_url\":\"https://cdn4.iconfinder.com/data/icons/navigation-40/24/chevron-right-20.png\",\"download_url\":\"https://api.iconfinder.com/v4/icons/4600821/formats/png/20/download\"}],\"size\":20,\"size_width\":20,\"size_height\":20},{\"formats\":[{\"format\":\"png\",\"preview_url\":\"https://cdn4.iconfinder.com/data/icons/navigation-40/24/chevron-right-24.png\",\"download_url\":\"https://api.iconfinder.com/v4/icons/4600821/formats/png/24/download\"}],\"size\":24,\"size_width\":24,\"size_height\":24},{\"formats\":[{\"format\":\"png\",\"preview_url\":\"https://cdn4.iconfinder.com/data/icons/navigation-40/24/chevron-right-32.png\",\"download_url\":\"https://api.iconfinder.com/v4/icons/4600821/formats/png/32/download\"}],\"size\":32,\"size_width\":32,\"size_height\":32},{\"formats\":[{\"format\":\"png\",\"preview_url\":\"https://cdn4.iconfinder.com/data/icons/navigation-40/24/chevron-right-48.png\",\"download_url\":\"https://api.iconfinder.com/v4/icons/4600821/formats/png/48/download\"}],\"size\":48,\"size_width\":48,\"size_height\":48},{\"formats\":[{\"format\":\"png\",\"preview_url\":\"https://cdn4.iconfinder.com/data/icons/navigation-40/24/chevron-right-64.png\",\"download_url\":\"https://api.iconfinder.com/v4/icons/4600821/formats/png/64/download\"}],\"size\":64,\"size_width\":64,\"size_height\":64},{\"formats\":[{\"format\":\"png\",\"preview_url\":\"https://cdn4.iconfinder.com/data/icons/navigation-40/24/chevron-right-128.png\",\"download_url\":\"https://api.iconfinder.com/v4/icons/4600821/formats/png/128/download\"}],\"size\":128,\"size_width\":128,\"size_height\":128},{\"formats\":[{\"format\":\"png\",\"preview_url\":\"https://cdn4.iconfinder.com/data/icons/navigation-40/24/chevron-right-256.png\",\"download_url\":\"https://api.iconfinder.com/v4/icons/4600821/formats/png/256/download\"}],\"size\":256,\"size_width\":256,\"size_height\":256},{\"formats\":[{\"format\":\"png\",\"preview_url\":\"https://cdn4.iconfinder.com/data/icons/navigation-40/24/chevron-right-512.png\",\"download_url\":\"https://api.iconfinder.com/v4/icons/4600821/formats/png/512/download\"}],\"size\":512,\"size_width\":512,\"size_height\":512},{\"formats\":[{\"format\":\"png\",\"preview_url\":\"https://cdn4.iconfinder.com/data/icons/navigation-40/24/chevron-right-1024.png\",\"download_url\":\"https://api.iconfinder.com/v4/icons/4600821/formats/png/1024/download\"}],\"size\":1024,\"size_width\":1024,\"size_height\":1024}],\"vector_sizes\":[{\"formats\":[{\"format\":\"svg\",\"download_url\":\"https://api.iconfinder.com/v4/icons/4600821/formats/svg/5072753/download\"}],\"target_sizes\":[[16,20,24,32,48,64,128,256,512,1024]],\"size\":24,\"size_width\":24,\"size_height\":24}],\"prices\":[{\"license\":{\"license_id\":71,\"name\":\"Basic license\",\"url\":\"https://www.iconfinder.com/licenses/basic\",\"scope\":\"basic\"},\"currency\":\"USD\",\"price\":2.0}],\"styles\":[{\"identifier\":\"outline\",\"name\":\"Outline\"}],\"categories\":[{\"identifier\":\"arrow\",\"name\":\"Arrows\"},{\"identifier\":\"user-interface-optimal\",\"name\":\"User interface optimal\"}],\"is_purchased\":false,\"is_icon_glyph\":false},{\"icon_id\":211688,\"tags\":[\"forward\",\"arrow\"],\"published_at\":\"2013-11-05T21:49:46.825431\",\"is_premium\":false,\"type\":\"vector\",\"containers\":[{\"format\":\"ico\",\"download_url\":\"https://api.iconfinder.com/v4/icons/211688/containers/ico/download\"},{\"format\":\"icns\",\"download_url\":\"https://api.iconfinder.com/v4/icons/211688/containers/icns/download\"}],\"raster_sizes\":[{\"formats\":[{\"format\":\"png\",\"preview_url\":\"https://cdn4.iconfinder.com/data/icons/ionicons/512/icon-ios7-arrow-forward-16.png\",\"download_url\":\"https://api.iconfinder.com/v4/icons/211688/formats/png/16/download\"}],\"size\":16,\"size_width\":16,\"size_height\":16},{\"formats\":[{\"format\":\"png\",\"preview_url\":\"https://cdn4.iconfinder.com/data/icons/ionicons/512/icon-ios7-arrow-forward-20.png\",\"download_url\":\"https://api.iconfinder.com/v4/icons/211688/formats/png/20/download\"}],\"size\":20,\"size_width\":20,\"size_height\":20},{\"formats\":[{\"format\":\"png\",\"preview_url\":\"https://cdn4.iconfinder.com/data/icons/ionicons/512/icon-ios7-arrow-forward-24.png\",\"download_url\":\"https://api.iconfinder.com/v4/icons/211688/formats/png/24/download\"}],\"size\":24,\"size_width\":24,\"size_height\":24},{\"formats\":[{\"format\":\"png\",\"preview_url\":\"https://cdn4.iconfinder.com/data/icons/ionicons/512/icon-ios7-arrow-forward-32.png\",\"download_url\":\"https://api.iconfinder.com/v4/icons/211688/formats/png/32/download\"}],\"size\":32,\"size_width\":32,\"size_height\":32},{\"formats\":[{\"format\":\"png\",\"preview_url\":\"https://cdn4.iconfinder.com/data/icons/ionicons/512/icon-ios7-arrow-forward-48.png\",\"download_url\":\"https://api.iconfinder.com/v4/icons/211688/formats/png/48/download\"}],\"size\":48,\"size_width\":48,\"size_height\":48},{\"formats\":[{\"format\":\"png\",\"preview_url\":\"https://cdn4.iconfinder.com/data/icons/ionicons/512/icon-ios7-arrow-forward-64.png\",\"download_url\":\"https://api.iconfinder.com/v4/icons/211688/formats/png/64/download\"}],\"size\":64,\"size_width\":64,\"size_height\":64},{\"formats\":[{\"format\":\"png\",\"preview_url\":\"https://cdn4.iconfinder.com/data/icons/ionicons/512/icon-ios7-arrow-forward-128.png\",\"download_url\":\"https://api.iconfinder.com/v4/icons/211688/formats/png/128/download\"}],\"size\":128,\"size_width\":128,\"size_height\":128},{\"formats\":[{\"format\":\"png\",\"preview_url\":\"https://cdn4.iconfinder.com/data/icons/ionicons/512/icon-ios7-arrow-forward-256.png\",\"download_url\":\"https://api.iconfinder.com/v4/icons/211688/formats/png/256/download\"}],\"size\":256,\"size_width\":256,\"size_height\":256},{\"formats\":[{\"format\":\"png\",\"preview_url\":\"https://cdn4.iconfinder.com/data/icons/ionicons/512/icon-ios7-arrow-forward-512.png\",\"download_url\":\"https://api.iconfinder.com/v4/icons/211688/formats/png/512/download\"}],\"size\":512,\"size_width\":512,\"size_height\":512}],\"vector_sizes\":[{\"formats\":[{\"format\":\"svg\",\"download_url\":\"https://api.iconfinder.com/v4/icons/211688/formats/svg/568176/download\"},{\"format\":\"ai\",\"download_url\":\"https://api.iconfinder.com/v4/icons/211688/formats/ai/568176/download\"}],\"target_sizes\":[[16,20,24,32,48,64,128,256,512]],\"size\":512,\"size_width\":512,\"size_height\":512}],\"styles\":[{\"identifier\":\"solid\",\"name\":\"Solid\"}],\"categories\":[{\"identifier\":\"computer-hardware\",\"name\":\"Computer & hardware\"}],\"is_icon_glyph\":false},{\"icon_id\":1514956,\"tags\":[\"arrow\",\"corrections\",\"drawn\",\"direction\"],\"published_at\":\"2016-10-04T19:21:10.249944\",\"is_premium\":true,\"type\":\"vector\",\"containers\":[{\"format\":\"ico\",\"download_url\":\"https://api.iconfinder.com/v4/icons/1514956/containers/ico/download\"},{\"format\":\"icns\",\"download_url\":\"https://api.iconfinder.com/v4/icons/1514956/containers/icns/download\"}],\"raster_sizes\":[{\"formats\":[{\"format\":\"png\",\"preview_url\":\"https://cdn1.iconfinder.com/data/icons/hand-drawn-corrections/100/hand_drawn_corrections-14-16.png\",\"download_url\":\"https://api.iconfinder.com/v4/icons/1514956/formats/png/16/download\"}],\"size\":16,\"size_width\":16,\"size_height\":16},{\"formats\":[{\"format\":\"png\",\"preview_url\":\"https://cdn1.iconfinder.com/data/icons/hand-drawn-corrections/100/hand_drawn_corrections-14-20.png\",\"download_url\":\"https://api.iconfinder.com/v4/icons/1514956/formats/png/20/download\"}],\"size\":20,\"size_width\":20,\"size_height\":20},{\"formats\":[{\"format\":\"png\",\"preview_url\":\"https://cdn1.iconfinder.com/data/icons/hand-drawn-corrections/100/hand_drawn_corrections-14-24.png\",\"download_url\":\"https://api.iconfinder.com/v4/icons/1514956/formats/png/24/download\"}],\"size\":24,\"size_width\":24,\"size_height\":24},{\"formats\":[{\"format\":\"png\",\"preview_url\":\"https://cdn1.iconfinder.com/data/icons/hand-drawn-corrections/100/hand_drawn_corrections-14-32.png\",\"download_url\":\"https://api.iconfinder.com/v4/icons/1514956/formats/png/32/download\"}],\"size\":32,\"size_width\":32,\"size_height\":32},{\"formats\":[{\"format\":\"png\",\"preview_url\":\"https://cdn1.iconfinder.com/data/icons/hand-drawn-corrections/100/hand_drawn_corrections-14-48.png\",\"download_url\":\"https://api.iconfinder.com/v4/icons/1514956/formats/png/48/download\"}],\"size\":48,\"size_width\":48,\"size_height\":48},{\"formats\":[{\"format\":\"png\",\"preview_url\":\"https://cdn1.iconfinder.com/data/icons/hand-drawn-corrections/100/hand_drawn_corrections-14-64.png\",\"download_url\":\"https://api.iconfinder.com/v4/icons/1514956/formats/png/64/download\"}],\"size\":64,\"size_width\":64,\"size_height\":64},{\"formats\":[{\"format\":\"png\",\"preview_url\":\"https://cdn1.iconfinder.com/data/icons/hand-drawn-corrections/100/hand_drawn_corrections-14-128.png\",\"download_url\":\"https://api.iconfinder.com/v4/icons/1514956/formats/png/128/download\"}],\"size\":128,\"size_width\":128,\"size_height\":128},{\"formats\":[{\"format\":\"png\",\"preview_url\":\"https://cdn1.iconfinder.com/data/icons/hand-drawn-corrections/100/hand_drawn_corrections-14-256.png\",\"download_url\":\"https://api.iconfinder.com/v4/icons/1514956/formats/png/256/download\"}],\"size\":256,\"size_width\":256,\"size_height\":256},{\"formats\":[{\"format\":\"png\",\"preview_url\":\"https://cdn1.iconfinder.com/data/icons/hand-drawn-corrections/100/hand_drawn_corrections-14-512.png\",\"download_url\":\"https://api.iconfinder.com/v4/icons/1514956/formats/png/512/download\"}],\"size\":512,\"size_width\":512,\"size_height\":512},{\"formats\":[{\"format\":\"png\",\"preview_url\":\"https://cdn1.iconfinder.com/data/icons/hand-drawn-corrections/100/hand_drawn_corrections-14-1024.png\",\"download_url\":\"https://api.iconfinder.com/v4/icons/1514956/formats/png/1024/download\"}],\"size\":1024,\"size_width\":1024,\"size_height\":1024}],\"vector_sizes\":[{\"formats\":[{\"format\":\"svg\",\"download_url\":\"https://api.iconfinder.com/v4/icons/1514956/formats/svg/1958927/download\"},{\"format\":\"ai\",\"download_url\":\"https://api.iconfinder.com/v4/icons/1514956/formats/ai/1958927/download\"}],\"target_sizes\":[[16,20,24,32,48,64,128,256,512,1024]],\"size\":100,\"size_width\":100,\"size_height\":100}],\"prices\":[{\"license\":{\"license_id\":71,\"name\":\"Basic license\",\"url\":\"https://www.iconfinder.com/licenses/basic\",\"scope\":\"basic\"},\"currency\":\"USD\",\"price\":2.0}],\"styles\":[{\"identifier\":\"handdrawn\",\"name\":\"Handdrawn\"}],\"categories\":[{\"identifier\":\"arrow\",\"name\":\"Arrows\"}],\"is_purchased\":false,\"is_icon_glyph\":false},{\"icon_id\":211614,\"tags\":[\"down\",\"b\",\"arrow\"],\"published_at\":\"2013-11-05T21:49:46.825431\",\"is_premium\":false,\"type\":\"vector\",\"containers\":[{\"format\":\"ico\",\"download_url\":\"https://api.iconfinder.com/v4/icons/211614/containers/ico/download\"},{\"format\":\"icns\",\"download_url\":\"https://api.iconfinder.com/v4/icons/211614/containers/icns/download\"}],\"raster_sizes\":[{\"formats\":[{\"format\":\"png\",\"preview_url\":\"https://cdn4.iconfinder.com/data/icons/ionicons/512/icon-arrow-down-b-16.png\",\"download_url\":\"https://api.iconfinder.com/v4/icons/211614/formats/png/16/download\"}],\"size\":16,\"size_width\":16,\"size_height\":16},{\"formats\":[{\"format\":\"png\",\"preview_url\":\"https://cdn4.iconfinder.com/data/icons/ionicons/512/icon-arrow-down-b-20.png\",\"download_url\":\"https://api.iconfinder.com/v4/icons/211614/formats/png/20/download\"}],\"size\":20,\"size_width\":20,\"size_height\":20},{\"formats\":[{\"format\":\"png\",\"preview_url\":\"https://cdn4.iconfinder.com/data/icons/ionicons/512/icon-arrow-down-b-24.png\",\"download_url\":\"https://api.iconfinder.com/v4/icons/211614/formats/png/24/download\"}],\"size\":24,\"size_width\":24,\"size_height\":24},{\"formats\":[{\"format\":\"png\",\"preview_url\":\"https://cdn4.iconfinder.com/data/icons/ionicons/512/icon-arrow-down-b-32.png\",\"download_url\":\"https://api.iconfinder.com/v4/icons/211614/formats/png/32/download\"}],\"size\":32,\"size_width\":32,\"size_height\":32},{\"formats\":[{\"format\":\"png\",\"preview_url\":\"https://cdn4.iconfinder.com/data/icons/ionicons/512/icon-arrow-down-b-48.png\",\"download_url\":\"https://api.iconfinder.com/v4/icons/211614/formats/png/48/download\"}],\"size\":48,\"size_width\":48,\"size_height\":48},{\"formats\":[{\"format\":\"png\",\"preview_url\":\"https://cdn4.iconfinder.com/data/icons/ionicons/512/icon-arrow-down-b-64.png\",\"download_url\":\"https://api.iconfinder.com/v4/icons/211614/formats/png/64/download\"}],\"size\":64,\"size_width\":64,\"size_height\":64},{\"formats\":[{\"format\":\"png\",\"preview_url\":\"https://cdn4.iconfinder.com/data/icons/ionicons/512/icon-arrow-down-b-128.png\",\"download_url\":\"https://api.iconfinder.com/v4/icons/211614/formats/png/128/download\"}],\"size\":128,\"size_width\":128,\"size_height\":128},{\"formats\":[{\"format\":\"png\",\"preview_url\":\"https://cdn4.iconfinder.com/data/icons/ionicons/512/icon-arrow-down-b-256.png\",\"download_url\":\"https://api.iconfinder.com/v4/icons/211614/formats/png/256/download\"}],\"size\":256,\"size_width\":256,\"size_height\":256},{\"formats\":[{\"format\":\"png\",\"preview_url\":\"https://cdn4.iconfinder.com/data/icons/ionicons/512/icon-arrow-down-b-512.png\",\"download_url\":\"https://api.iconfinder.com/v4/icons/211614/formats/png/512/download\"}],\"size\":512,\"size_width\":512,\"size_height\":512}],\"vector_sizes\":[{\"formats\":[{\"format\":\"svg\",\"download_url\":\"https://api.iconfinder.com/v4/icons/211614/formats/svg/568102/download\"},{\"format\":\"ai\",\"download_url\":\"https://api.iconfinder.com/v4/icons/211614/formats/ai/568102/download\"}],\"target_sizes\":[[16,20,24,32,48,64,128,256,512]],\"size\":512,\"size_width\":512,\"size_height\":512}],\"styles\":[{\"identifier\":\"solid\",\"name\":\"Solid\"}],\"categories\":[{\"identifier\":\"computer-hardware\",\"name\":\"Computer & hardware\"}],\"is_icon_glyph\":false}]}'"
            ]
          },
          "execution_count": 12,
          "metadata": {},
          "output_type": "execute_result"
        }
      ],
      "source": [
        "response.text"
      ]
    },
    {
      "cell_type": "code",
      "execution_count": 15,
      "metadata": {
        "colab": {
          "base_uri": "https://localhost:8080/"
        },
        "id": "uaBOum7yhMhe",
        "outputId": "8cba4f03-e246-4587-888d-dd20c0da0ccd"
      },
      "outputs": [
        {
          "data": {
            "text/plain": [
              "403"
            ]
          },
          "execution_count": 15,
          "metadata": {},
          "output_type": "execute_result"
        }
      ],
      "source": [
        "import requests\n",
        "\n",
        "url = \"https://api.d-id.com/clips\"\n",
        "\n",
        "D_iD_API_KEY = os.getenv(\"D_iD_API_KEY\")\n",
        "\n",
        "payload = {\n",
        "    \"script\": {\n",
        "        \"type\": \"text\",\n",
        "        \"subtitles\": \"false\",\n",
        "        \"provider\": {\n",
        "            \"type\": \"microsoft\",\n",
        "            \"voice_id\": \"en-US-JennyNeural\"\n",
        "        },\n",
        "        \"ssml\": \"false\",\n",
        "        \"input\":\"If you go to the gym and work out and look in the mirror and see nothing and that's your daily routine, then you become careless, or if you believe what you're doing is effective and stick to it and repeat it, you'll get results.The issue is not the intensity of the work, it is the issue of continuity.\"\n",
        "    },\n",
        "    \"config\": { \"result_format\": \"mp4\" },\n",
        "    \"presenter_config\": { \"crop\": { \"type\": \"rectangle\" } },\n",
        "    \"background\":{\"color\":\"white\"},\n",
        "    \"presenter_id\":\"anita-6_uTzyZtNR\"\n",
        "\n",
        "}\n",
        "headers = {\n",
        "    \"accept\": \"application/json\",\n",
        "    \"content-type\": \"application/json\",\n",
        "    \"authorization\": D_iD_API_KEY\n",
        "    }\n",
        "\n",
        "response = requests.post(url, json=payload, headers=headers)\n",
        "response.status_code"
      ]
    },
    {
      "cell_type": "code",
      "execution_count": null,
      "metadata": {
        "id": "Crru4wLzfS8r"
      },
      "outputs": [],
      "source": [
        "import requests\n",
        "\n",
        "url = \"https://api.d-id.com/clips\"\n",
        "\n",
        "payload = {\n",
        "    \"script\": {\n",
        "        \"type\": \"text\",\n",
        "        \"subtitles\": \"false\",\n",
        "        \"provider\": {\n",
        "            \"type\": \"microsoft\",\n",
        "            \"voice_id\": \"en-US-JennyNeural\"\n",
        "        },\n",
        "        \"ssml\": \"false\",\n",
        "         \"input\":\"If you go to the gym and work out and look in the mirror and see nothing and that's your daily routine, then you become careless, or if you believe what you're doing is effective and stick to it and repeat it, you'll get results.The issue is not the intensity of the work, it is the issue of continuity.\"\n",
        "\n",
        "    },\n",
        "    \"config\": { \"result_format\": \"mp4\" },\n",
        "    \"presenter_config\": { \"crop\": { \"type\": \"rectangle\" } },\n",
        "    \"background\":{\"color\":\"white\"},\n",
        "    \"presenter_id\":\"anita-6_uTzyZtNR\"\n",
        "\n",
        "}\n",
        "headers = {\n",
        "    \"accept\": \"application/json\",\n",
        "    \"content-type\": \"application/json\",\n",
        "    \"authorization\": D_iD_API_KEY\n",
        "}\n",
        "\n",
        "response = requests.post(url, json=payload, headers=headers)\n",
        "\n",
        "response.status_code"
      ]
    },
    {
      "cell_type": "code",
      "execution_count": null,
      "metadata": {
        "id": "r9HYPiEyjkIU"
      },
      "outputs": [],
      "source": [
        "response.json()"
      ]
    },
    {
      "cell_type": "code",
      "execution_count": null,
      "metadata": {
        "id": "UZelAvsAjce3"
      },
      "outputs": [],
      "source": [
        "import requests\n",
        "\n",
        "url = \"https://api.d-id.com/clips/id\"\n",
        "\n",
        "headers = {\n",
        "    \"accept\": \"application/json\",\n",
        "    \"authorization\": D_iD_API_KEY\n",
        "}\n",
        "\n",
        "response = requests.get(url, headers=headers)\n",
        "\n",
        "print(response.text)"
      ]
    },
    {
      "cell_type": "code",
      "execution_count": null,
      "metadata": {
        "id": "bg7lZFvHjsF8"
      },
      "outputs": [],
      "source": [
        "response.json()"
      ]
    }
  ],
  "metadata": {
    "accelerator": "GPU",
    "colab": {
      "gpuType": "T4",
      "provenance": []
    },
    "kernelspec": {
      "display_name": "Python 3",
      "name": "python3"
    },
    "language_info": {
      "codemirror_mode": {
        "name": "ipython",
        "version": 3
      },
      "file_extension": ".py",
      "mimetype": "text/x-python",
      "name": "python",
      "nbconvert_exporter": "python",
      "pygments_lexer": "ipython3",
      "version": "3.11.8"
    }
  },
  "nbformat": 4,
  "nbformat_minor": 0
}
