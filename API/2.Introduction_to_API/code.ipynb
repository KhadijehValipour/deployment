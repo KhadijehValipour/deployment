{
  "cells": [
    {
      "cell_type": "code",
      "execution_count": 1,
      "metadata": {
        "id": "d8DzAVGUrQbC"
      },
      "outputs": [],
      "source": [
        "import os\n",
        "import requests\n",
        "import dotenv"
      ]
    },
    {
      "cell_type": "code",
      "execution_count": 2,
      "metadata": {},
      "outputs": [],
      "source": [
        "dotenv = dotenv.load_dotenv()"
      ]
    },
    {
      "cell_type": "code",
      "execution_count": 5,
      "metadata": {
        "colab": {
          "base_uri": "https://localhost:8080/"
        },
        "id": "r6C1Hcivrfp7",
        "outputId": "c096a958-717f-438b-a2bb-cbc592c53eaa"
      },
      "outputs": [
        {
          "data": {
            "text/plain": [
              "200"
            ]
          },
          "execution_count": 5,
          "metadata": {},
          "output_type": "execute_result"
        }
      ],
      "source": [
        "response = requests.get(\"https://the-one-api.dev/v2/book\")\n",
        "response.status_code"
      ]
    },
    {
      "cell_type": "code",
      "execution_count": 6,
      "metadata": {
        "colab": {
          "base_uri": "https://localhost:8080/"
        },
        "id": "J9aoWRWPYorl",
        "outputId": "c7449d1e-12f6-4632-8908-c212682cf20a"
      },
      "outputs": [
        {
          "data": {
            "text/plain": [
              "{'docs': [{'_id': '5cf5805fb53e011a64671582',\n",
              "   'name': 'The Fellowship Of The Ring'},\n",
              "  {'_id': '5cf58077b53e011a64671583', 'name': 'The Two Towers'},\n",
              "  {'_id': '5cf58080b53e011a64671584', 'name': 'The Return Of The King'}],\n",
              " 'total': 3,\n",
              " 'limit': 1000,\n",
              " 'offset': 0,\n",
              " 'page': 1,\n",
              " 'pages': 1}"
            ]
          },
          "execution_count": 6,
          "metadata": {},
          "output_type": "execute_result"
        }
      ],
      "source": [
        "response.json()"
      ]
    },
    {
      "cell_type": "code",
      "execution_count": 7,
      "metadata": {
        "colab": {
          "base_uri": "https://localhost:8080/"
        },
        "id": "Rk26iffIY5a5",
        "outputId": "56bdf90a-714d-4193-d5a5-78e3b0fafc6c"
      },
      "outputs": [
        {
          "data": {
            "text/plain": [
              "200"
            ]
          },
          "execution_count": 7,
          "metadata": {},
          "output_type": "execute_result"
        }
      ],
      "source": [
        "One_API_KEY = os.getenv(\"One_API_KEY\")\n",
        "\n",
        "headers = {\n",
        "    \"Authorization\":One_API_KEY\n",
        "}\n",
        "\n",
        "\n",
        "response = requests.get(\"https://the-one-api.dev/v2/movie\", headers=headers)\n",
        "response.status_code"
      ]
    },
    {
      "cell_type": "code",
      "execution_count": null,
      "metadata": {
        "id": "4wXhoHEdcikl"
      },
      "outputs": [],
      "source": [
        "response.json()"
      ]
    },
    {
      "cell_type": "code",
      "execution_count": 9,
      "metadata": {
        "colab": {
          "base_uri": "https://localhost:8080/"
        },
        "id": "BCS_ZGu7eqKc",
        "outputId": "4b2ecbfa-753c-4338-a8be-9b363d89d8ad"
      },
      "outputs": [
        {
          "data": {
            "text/plain": [
              "200"
            ]
          },
          "execution_count": 9,
          "metadata": {},
          "output_type": "execute_result"
        }
      ],
      "source": [
        "url = \"https://api.iconfinder.com/v4/icons/search?query=arrow&count=10\"\n",
        "\n",
        "IconFinder_API_KEY = os.getenv(\"IconFinder_API_KEY\")\n",
        "\n",
        "headers = {\n",
        "    \"accept\" : \"application/json\",\n",
        "    \"Authorization\" : IconFinder_API_KEY\n",
        "}\n",
        "\n",
        "response = requests.get(url, headers=headers)\n",
        "\n",
        "response.status_code"
      ]
    },
    {
      "cell_type": "code",
      "execution_count": null,
      "metadata": {
        "id": "Zg0x3stXmSC5"
      },
      "outputs": [],
      "source": [
        "response.json()"
      ]
    },
    {
      "cell_type": "code",
      "execution_count": 11,
      "metadata": {
        "colab": {
          "base_uri": "https://localhost:8080/"
        },
        "id": "3VR_-20zuRHg",
        "outputId": "42a452e2-933d-484a-ad6e-eb3e1069e56b"
      },
      "outputs": [
        {
          "data": {
            "text/plain": [
              "200"
            ]
          },
          "execution_count": 11,
          "metadata": {},
          "output_type": "execute_result"
        }
      ],
      "source": [
        "url = \"https://api.iconfinder.com/v4/icons/search?query=arrow&count=10\"\n",
        "\n",
        "headers = {\n",
        "    \"accept\" : \"application/json\",\n",
        "    \"Authorization\" : IconFinder_API_KEY\n",
        "}\n",
        "\n",
        "payload = {\n",
        "    \"query\" : \"arrow\",\n",
        "    \"count\" : \"10\"\n",
        "}\n",
        "\n",
        "response = requests.get(url, headers=headers, params=payload)\n",
        "\n",
        "response.status_code"
      ]
    },
    {
      "cell_type": "code",
      "execution_count": null,
      "metadata": {
        "colab": {
          "base_uri": "https://localhost:8080/",
          "height": 200
        },
        "id": "VrJreOiNvBwH",
        "outputId": "f5e2ea1c-23e7-4806-dcb8-b671ed78711c"
      },
      "outputs": [],
      "source": [
        "response.text"
      ]
    },
    {
      "cell_type": "code",
      "execution_count": 15,
      "metadata": {
        "colab": {
          "base_uri": "https://localhost:8080/"
        },
        "id": "uaBOum7yhMhe",
        "outputId": "8cba4f03-e246-4587-888d-dd20c0da0ccd"
      },
      "outputs": [
        {
          "data": {
            "text/plain": [
              "403"
            ]
          },
          "execution_count": 15,
          "metadata": {},
          "output_type": "execute_result"
        }
      ],
      "source": [
        "import requests\n",
        "\n",
        "url = \"https://api.d-id.com/clips\"\n",
        "\n",
        "D_iD_API_KEY = os.getenv(\"D_iD_API_KEY\")\n",
        "\n",
        "payload = {\n",
        "    \"script\": {\n",
        "        \"type\": \"text\",\n",
        "        \"subtitles\": \"false\",\n",
        "        \"provider\": {\n",
        "            \"type\": \"microsoft\",\n",
        "            \"voice_id\": \"en-US-JennyNeural\"\n",
        "        },\n",
        "        \"ssml\": \"false\",\n",
        "        \"input\":\"If you go to the gym and work out and look in the mirror and see nothing and that's your daily routine, then you become careless, or if you believe what you're doing is effective and stick to it and repeat it, you'll get results.The issue is not the intensity of the work, it is the issue of continuity.\"\n",
        "    },\n",
        "    \"config\": { \"result_format\": \"mp4\" },\n",
        "    \"presenter_config\": { \"crop\": { \"type\": \"rectangle\" } },\n",
        "    \"background\":{\"color\":\"white\"},\n",
        "    \"presenter_id\":\"anita-6_uTzyZtNR\"\n",
        "\n",
        "}\n",
        "headers = {\n",
        "    \"accept\": \"application/json\",\n",
        "    \"content-type\": \"application/json\",\n",
        "    \"authorization\": D_iD_API_KEY\n",
        "    }\n",
        "\n",
        "response = requests.post(url, json=payload, headers=headers)\n",
        "response.status_code"
      ]
    },
    {
      "cell_type": "code",
      "execution_count": null,
      "metadata": {
        "id": "Crru4wLzfS8r"
      },
      "outputs": [],
      "source": [
        "import requests\n",
        "\n",
        "url = \"https://api.d-id.com/clips\"\n",
        "\n",
        "payload = {\n",
        "    \"script\": {\n",
        "        \"type\": \"text\",\n",
        "        \"subtitles\": \"false\",\n",
        "        \"provider\": {\n",
        "            \"type\": \"microsoft\",\n",
        "            \"voice_id\": \"en-US-JennyNeural\"\n",
        "        },\n",
        "        \"ssml\": \"false\",\n",
        "         \"input\":\"If you go to the gym and work out and look in the mirror and see nothing and that's your daily routine, then you become careless, or if you believe what you're doing is effective and stick to it and repeat it, you'll get results.The issue is not the intensity of the work, it is the issue of continuity.\"\n",
        "\n",
        "    },\n",
        "    \"config\": { \"result_format\": \"mp4\" },\n",
        "    \"presenter_config\": { \"crop\": { \"type\": \"rectangle\" } },\n",
        "    \"background\":{\"color\":\"white\"},\n",
        "    \"presenter_id\":\"anita-6_uTzyZtNR\"\n",
        "\n",
        "}\n",
        "headers = {\n",
        "    \"accept\": \"application/json\",\n",
        "    \"content-type\": \"application/json\",\n",
        "    \"authorization\": D_iD_API_KEY\n",
        "}\n",
        "\n",
        "response = requests.post(url, json=payload, headers=headers)\n",
        "\n",
        "response.status_code"
      ]
    },
    {
      "cell_type": "code",
      "execution_count": null,
      "metadata": {
        "id": "r9HYPiEyjkIU"
      },
      "outputs": [],
      "source": [
        "response.json()"
      ]
    },
    {
      "cell_type": "code",
      "execution_count": null,
      "metadata": {
        "id": "UZelAvsAjce3"
      },
      "outputs": [],
      "source": [
        "import requests\n",
        "\n",
        "url = \"https://api.d-id.com/clips/id\"\n",
        "\n",
        "headers = {\n",
        "    \"accept\": \"application/json\",\n",
        "    \"authorization\": D_iD_API_KEY\n",
        "}\n",
        "\n",
        "response = requests.get(url, headers=headers)\n",
        "\n",
        "print(response.text)"
      ]
    },
    {
      "cell_type": "code",
      "execution_count": null,
      "metadata": {
        "id": "bg7lZFvHjsF8"
      },
      "outputs": [],
      "source": [
        "response.json()"
      ]
    }
  ],
  "metadata": {
    "accelerator": "GPU",
    "colab": {
      "gpuType": "T4",
      "provenance": []
    },
    "kernelspec": {
      "display_name": "Python 3",
      "name": "python3"
    },
    "language_info": {
      "codemirror_mode": {
        "name": "ipython",
        "version": 3
      },
      "file_extension": ".py",
      "mimetype": "text/x-python",
      "name": "python",
      "nbconvert_exporter": "python",
      "pygments_lexer": "ipython3",
      "version": "3.11.8"
    }
  },
  "nbformat": 4,
  "nbformat_minor": 0
}
