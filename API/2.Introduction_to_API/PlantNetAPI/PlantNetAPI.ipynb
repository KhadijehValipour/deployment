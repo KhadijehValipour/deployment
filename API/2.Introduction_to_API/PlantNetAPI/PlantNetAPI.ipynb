{
  "cells": [
    {
      "cell_type": "code",
      "execution_count": 2,
      "metadata": {
        "id": "1i9myQrRUvmI"
      },
      "outputs": [],
      "source": [
        "import os\n",
        "import requests\n",
        "import dotenv"
      ]
    },
    {
      "cell_type": "code",
      "execution_count": 3,
      "metadata": {},
      "outputs": [],
      "source": [
        "dotenv = dotenv.load_dotenv()"
      ]
    },
    {
      "cell_type": "code",
      "execution_count": 2,
      "metadata": {
        "colab": {
          "base_uri": "https://localhost:8080/"
        },
        "id": "bVpkp7NVPoTo",
        "outputId": "043d9d5d-0f60-4af8-9291-55c886f178ac"
      },
      "outputs": [
        {
          "data": {
            "text/plain": [
              "200"
            ]
          },
          "execution_count": 2,
          "metadata": {},
          "output_type": "execute_result"
        }
      ],
      "source": [
        "url = \"https://my-api.plantnet.org/v2/identify/all\"\n",
        "\n",
        "PlantNet_API_KEY = os.getenv(\"PlantNet_API_KEY\")\n",
        "\n",
        "\n",
        "headers ={\n",
        "\n",
        "}\n",
        "\n",
        "payload = {\n",
        "    \"api-key\": PlantNet_API_KEY\n",
        "}\n",
        "\n",
        "files = {\n",
        "    \"images\": open(\"/content/sirne.jpg\", \"rb\")\n",
        "}\n",
        "\n",
        "response = requests.post(url,headers=headers, params=payload, files=files)\n",
        "\n",
        "response.status_code"
      ]
    },
    {
      "cell_type": "code",
      "execution_count": 3,
      "metadata": {
        "colab": {
          "base_uri": "https://localhost:8080/"
        },
        "id": "3RtHo4BjV5UI",
        "outputId": "e47b1a56-5851-418c-cdd0-cd331cc92e93"
      },
      "outputs": [
        {
          "data": {
            "text/plain": [
              "{'query': {'project': 'all',\n",
              "  'images': ['302e8f5bdd338c00eaa20f409ae2641e'],\n",
              "  'organs': ['auto'],\n",
              "  'includeRelatedImages': False,\n",
              "  'noReject': False},\n",
              " 'language': 'en',\n",
              " 'preferedReferential': 'useful',\n",
              " 'bestMatch': \"Pericallis cruenta (L'Hér.) Bolle\",\n",
              " 'results': [{'score': 0.97854,\n",
              "   'species': {'scientificNameWithoutAuthor': 'Pericallis cruenta',\n",
              "    'scientificNameAuthorship': \"(L'Hér.) Bolle\",\n",
              "    'genus': {'scientificNameWithoutAuthor': 'Pericallis',\n",
              "     'scientificNameAuthorship': '',\n",
              "     'scientificName': 'Pericallis'},\n",
              "    'family': {'scientificNameWithoutAuthor': 'Asteraceae',\n",
              "     'scientificNameAuthorship': '',\n",
              "     'scientificName': 'Asteraceae'},\n",
              "    'commonNames': ['Cineraria', 'سینره، خاکسترگون'],\n",
              "    'scientificName': \"Pericallis cruenta (L'Hér.) Bolle\"},\n",
              "   'gbif': {'id': '9527849'}}],\n",
              " 'version': '2024-02-22 (7.1)'}"
            ]
          },
          "execution_count": 3,
          "metadata": {},
          "output_type": "execute_result"
        }
      ],
      "source": [
        "response.json()"
      ]
    }
  ],
  "metadata": {
    "accelerator": "GPU",
    "colab": {
      "gpuType": "T4",
      "provenance": []
    },
    "kernelspec": {
      "display_name": "Python 3",
      "name": "python3"
    },
    "language_info": {
      "codemirror_mode": {
        "name": "ipython",
        "version": 3
      },
      "file_extension": ".py",
      "mimetype": "text/x-python",
      "name": "python",
      "nbconvert_exporter": "python",
      "pygments_lexer": "ipython3",
      "version": "3.11.8"
    }
  },
  "nbformat": 4,
  "nbformat_minor": 0
}
