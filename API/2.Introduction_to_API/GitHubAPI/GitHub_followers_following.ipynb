{
  "cells": [
    {
      "cell_type": "code",
      "source": [
        "import requests\n"
      ],
      "metadata": {
        "id": "IHfa8BHZ4nm4"
      },
      "execution_count": 1,
      "outputs": []
    },
    {
      "cell_type": "code",
      "source": [
        "payload={}\n",
        "headers={}"
      ],
      "metadata": {
        "id": "KSWKW4W74t_Q"
      },
      "execution_count": 2,
      "outputs": []
    },
    {
      "cell_type": "code",
      "source": [
        "\n",
        "def get_followes_following_count(github_username):\n",
        "    url = f'https://api.github.com/users/{github_username}'\n",
        "    response = requests.request(\"GET\", url, headers=headers, data=payload)\n",
        "    if response.status_code == 200:\n",
        "        data = response.json()\n",
        "        followers_count = data['followers']\n",
        "        following_count = data['following']\n",
        "        return followers_count , following_count\n",
        "    else:\n",
        "        return 0\n",
        "\n",
        "github_username = 'KhadijehValipour'\n",
        "\n",
        "followers , following = get_followes_following_count(github_username)\n",
        "\n",
        "print(f\"{github_username} has {followers} followers and is following {following}.\")"
      ],
      "metadata": {
        "id": "NNavlmEj4pUx",
        "outputId": "2bfbbbb0-304e-4296-f827-15b147989ebd",
        "colab": {
          "base_uri": "https://localhost:8080/"
        }
      },
      "execution_count": 3,
      "outputs": [
        {
          "output_type": "stream",
          "name": "stdout",
          "text": [
            "KhadijehValipour has 39 followers and is following 57.\n"
          ]
        }
      ]
    }
  ],
  "metadata": {
    "accelerator": "GPU",
    "colab": {
      "gpuType": "T4",
      "provenance": []
    },
    "kernelspec": {
      "display_name": "Python 3",
      "name": "python3"
    },
    "language_info": {
      "name": "python"
    }
  },
  "nbformat": 4,
  "nbformat_minor": 0
}